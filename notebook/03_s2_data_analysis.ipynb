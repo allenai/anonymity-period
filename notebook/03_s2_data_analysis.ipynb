{
 "cells": [
  {
   "attachments": {},
   "cell_type": "markdown",
   "metadata": {},
   "source": [
    "# Analysis of S2 Citation Data of ICLR Submissions\n",
    "\n",
    "(C) David Wadden"
   ]
  },
  {
   "cell_type": "code",
   "execution_count": null,
   "metadata": {},
   "outputs": [],
   "source": [
    "import pandas as pd\n",
    "from pathlib import Path\n",
    "import json\n",
    "import numpy as np\n",
    "from collections import Counter\n",
    "import os\n",
    "from pathlib import Path\n"
   ]
  },
  {
   "cell_type": "code",
   "execution_count": null,
   "metadata": {},
   "outputs": [],
   "source": [
    "my_dir = Path(os.getcwd())\n",
    "data_dir = my_dir.parent / \"data\"\n",
    "\n",
    "# ICLR data with S2's and publications dates.\n",
    "df = pd.read_csv(data_dir / \"baby_iclr_ids_and_dates.csv\")\n",
    "\n",
    "# Treat workshop-invited papers as rejections.\n",
    "df[\"full_decision_with_workshop\"] = df[\"full_decision\"].copy()\n",
    "df[\"full_decision\"] = df[\"full_decision\"].replace(\"Invite to Workshop Track\", \"Reject\")\n",
    "\n",
    "\n",
    "# Citations for all submitted ICLR papers.\n",
    "citations = [json.loads(line) for line in open(data_dir / \"baby_iclr_citations.jsonl\")]\n"
   ]
  },
  {
   "attachments": {},
   "cell_type": "markdown",
   "metadata": {},
   "source": [
    "## Data checks\n",
    "\n",
    "Look at distribution of decisions. We can probably just throw out \"invite to workshop\"; seems like an edge case."
   ]
  },
  {
   "cell_type": "code",
   "execution_count": null,
   "metadata": {},
   "outputs": [],
   "source": [
    "df.full_decision_with_workshop.value_counts()\n"
   ]
  },
  {
   "cell_type": "code",
   "execution_count": null,
   "metadata": {},
   "outputs": [],
   "source": [
    "df.full_decision.value_counts()\n"
   ]
  },
  {
   "cell_type": "code",
   "execution_count": null,
   "metadata": {},
   "outputs": [],
   "source": [
    "len(df)\n"
   ]
  },
  {
   "attachments": {},
   "cell_type": "markdown",
   "metadata": {},
   "source": [
    "Distribution of conference years."
   ]
  },
  {
   "cell_type": "code",
   "execution_count": null,
   "metadata": {},
   "outputs": [],
   "source": [
    "df.year.value_counts().sort_index()\n"
   ]
  },
  {
   "cell_type": "code",
   "execution_count": null,
   "metadata": {},
   "outputs": [],
   "source": [
    "df.groupby(\"year\").arxiv_first.value_counts()\n"
   ]
  },
  {
   "attachments": {},
   "cell_type": "markdown",
   "metadata": {},
   "source": [
    "Find out how many submissions we missed (i.e. couldn't find S2 ID's for).\n",
    "\n",
    "**NOTE**: Nearly all the submissions we can't get data on are for rejected papers, since many of these were likely never arXiv'd. We might need to account for this somehow.\n",
    "\n",
    "- For papers that were accepted, we're missing 1.1%\n",
    "- For papers that were rejected, we're missing 19.8%. These were likely withdrawn and then never released publicly."
   ]
  },
  {
   "cell_type": "code",
   "execution_count": null,
   "metadata": {},
   "outputs": [],
   "source": [
    "missed = (df[\"s2_id\"] == -1).sum()\n",
    "print(f\"{missed} / {len(df)} submissions missed.\")\n",
    "\n",
    "# Look at this for accepted vs. not.\n",
    "df_reject = df[df[\"full_decision\"].str.contains(\"Reject\")]\n",
    "df_accept = df[df[\"full_decision\"].str.contains(\"Accept\")]\n",
    "\n",
    "missed_reject = (df_reject[\"s2_id\"] == -1).sum()\n",
    "kept_reject = len(df_reject) - missed_reject\n",
    "pct_found_reject = round((kept_reject / len(df_reject)) * 100, 1)\n",
    "print(f\"{kept_reject} / {len(df_reject)} ({pct_found_reject}%) rejected submissions found.\")\n",
    "\n",
    "missed_accept = (df_accept[\"s2_id\"] == -1).sum()\n",
    "kept_accept = len(df_accept) - missed_accept\n",
    "pct_found_accept = round((kept_accept / len(df_accept)) * 100, 1)\n",
    "print(f\"{kept_accept} / {len(df_accept)} ({pct_found_accept}%) accepted submissions found.\")\n"
   ]
  },
  {
   "attachments": {},
   "cell_type": "markdown",
   "metadata": {},
   "source": [
    "Look at publication date coverage for papers where we got the S2 ID.\n",
    "\n",
    "- Nearly all papers have a publication year.\n",
    "- Roughly 10% of papers don't have a citation date\n",
    "- Missingness isn't dramatically different for accepted vs. rejected papers.\n",
    "- **Conclusion**: It should be fine to just toss out the papers with no citation date."
   ]
  },
  {
   "cell_type": "code",
   "execution_count": null,
   "metadata": {},
   "outputs": [],
   "source": [
    "df_s2 = df[df[\"s2_id\"] != -1]\n",
    "num_papers = len(df_s2)\n",
    "no_year = df_s2[\"publication_year\"].isna().sum()\n",
    "no_date = df_s2[\"publication_date\"].isna().sum()\n",
    "\n",
    "msg = f\"{no_year} / {num_papers} papers have no year.\"\n",
    "print(msg)\n",
    "\n",
    "pct_missing = round((no_date / num_papers) * 100, 1)\n",
    "msg = f\"{no_date} / {num_papers} ({pct_missing}%) papers have no exact date.\"\n",
    "print(msg)\n",
    "\n",
    "# Look at whether missing dates are biased toward accepted or rejected papers.\n",
    "df_s2_reject = df_s2[df_s2[\"full_decision\"].str.contains(\"Reject\")]\n",
    "df_s2_accept = df_s2[df_s2[\"full_decision\"].str.contains(\"Accept\")]\n",
    "\n",
    "for name, this_df in [(\"reject\", df_s2_reject), (\"accept\", df_s2_accept)]:\n",
    "    num_papers = len(this_df)\n",
    "    no_date = this_df[\"publication_date\"].isna().sum()\n",
    "    has_date = num_papers - no_date\n",
    "    pct_found = round((has_date / num_papers) * 100, 1)\n",
    "    msg = f\"{has_date} / {num_papers} ({pct_found}%) `{name}` papers have an exact date.\"\n",
    "    print(msg)\n"
   ]
  },
  {
   "attachments": {},
   "cell_type": "markdown",
   "metadata": {},
   "source": [
    "Check that publication date missingness doesn't correlate with preprinting"
   ]
  },
  {
   "cell_type": "code",
   "execution_count": null,
   "metadata": {},
   "outputs": [],
   "source": [
    "for val, groupdf in df_s2.groupby(\"arxiv_first\"):\n",
    "    num_na = groupdf[\"publication_date\"].isna().sum()\n",
    "    frac_na = round((num_na / len(groupdf)) * 100, 1)\n",
    "    msg = f\"When arXiv is {val}, {frac_na}% of papers have no exact date.\"\n",
    "    print(msg)\n"
   ]
  },
  {
   "attachments": {},
   "cell_type": "markdown",
   "metadata": {},
   "source": [
    "## Checks on cited papers\n",
    "\n",
    "Get info on the cited papers. Roughly 15% of cited papers are missing publication dates, but this is virtually identical between accepted vs. rejected papers. So, I think it's probably OK to just throw these out as well."
   ]
  },
  {
   "cell_type": "code",
   "execution_count": null,
   "metadata": {},
   "outputs": [],
   "source": [
    "citations = [json.loads(line) for line in open(data_dir / \"baby_iclr_citations.jsonl\")]\n"
   ]
  },
  {
   "cell_type": "code",
   "execution_count": null,
   "metadata": {},
   "outputs": [],
   "source": [
    "counts = {\"Accept\": Counter(), \"Reject\": Counter()}\n",
    "\n",
    "for entry in citations:\n",
    "    if entry[\"status\"] != \"Success\":\n",
    "        continue\n",
    "    else:\n",
    "        query = f\"s2_id == {entry['s2_id']}\"\n",
    "        decision = df.query(query).iloc[0][\"full_decision\"]\n",
    "        decision = decision.split(\" \")[0]\n",
    "        if decision not in [\"Accept\", \"Reject\"]:\n",
    "            continue\n",
    "        cites = entry[\"citations\"]\n",
    "        for cite in cites:\n",
    "            if cite[\"citingPaper\"][\"publicationDate\"] is None:\n",
    "                counts[decision][\"no_date\"] += 1\n",
    "            else:\n",
    "                counts[decision][\"has_date\"] += 1\n",
    "\n",
    "for name in [\"Accept\", \"Reject\"]:\n",
    "    counts_loop = counts[name]\n",
    "    total = counts_loop[\"has_date\"] + counts_loop[\"no_date\"]\n",
    "    no_date = counts_loop[\"no_date\"]\n",
    "    pct_missing = round((no_date / total) * 100, 1)\n",
    "    msg = f\"{no_date} / {total} ({pct_missing}%) `{name}` cited papers have no exact date.\"\n",
    "    print(msg)\n"
   ]
  },
  {
   "cell_type": "code",
   "execution_count": null,
   "metadata": {},
   "outputs": [],
   "source": [
    "df.query(f\"title == '{entry['title']}' & s2_id == {entry['s2_id']}\").iloc[0][\"full_decision\"]\n"
   ]
  },
  {
   "attachments": {},
   "cell_type": "markdown",
   "metadata": {},
   "source": [
    "## Citation analysis"
   ]
  },
  {
   "cell_type": "code",
   "execution_count": null,
   "metadata": {},
   "outputs": [],
   "source": [
    "result_dir = Path(\"../results\")\n",
    "cite_counts = pd.read_table(result_dir / \"citations_within_365_include_no_s2orc_true.tsv\")\n"
   ]
  },
  {
   "attachments": {},
   "cell_type": "markdown",
   "metadata": {},
   "source": [
    "Look at number of citations a year out, comparing papers that were accepted vs. rejected.\n",
    "Papers that were accepted were cited more."
   ]
  },
  {
   "cell_type": "code",
   "execution_count": null,
   "metadata": {},
   "outputs": [],
   "source": [
    "cite_counts[\"short_decision\"] = [x.split(\" \")[0] for x in cite_counts[\"full_decision\"]]\n",
    "cite_counts.groupby(\"short_decision\")[\"cites_within_window\"].describe()\n"
   ]
  },
  {
   "attachments": {},
   "cell_type": "markdown",
   "metadata": {},
   "source": [
    "Look at citations a year out, comparing papers that were arXiv'd vs. not.\n",
    "It looks like arXiv'ing doesn't make a big difference, at least in mean."
   ]
  },
  {
   "cell_type": "code",
   "execution_count": null,
   "metadata": {},
   "outputs": [],
   "source": [
    "cite_counts.groupby(\"arxiv_first\")[\"cites_within_window\"].describe()\n"
   ]
  },
  {
   "attachments": {},
   "cell_type": "markdown",
   "metadata": {},
   "source": [
    "Look at acceptance rate for papers that were arXiv'd vs. not.\n",
    "Papers that were arXiv'd first are more likely to be accepted."
   ]
  },
  {
   "cell_type": "code",
   "execution_count": null,
   "metadata": {},
   "outputs": [],
   "source": [
    "cite_counts.groupby(\"arxiv_first\").apply(lambda group: (group[\"short_decision\"] == \"Accept\").mean())\n"
   ]
  }
 ],
 "metadata": {
  "kernelspec": {
   "display_name": "base",
   "language": "python",
   "name": "python3"
  },
  "language_info": {
   "codemirror_mode": {
    "name": "ipython",
    "version": 3
   },
   "file_extension": ".py",
   "mimetype": "text/x-python",
   "name": "python",
   "nbconvert_exporter": "python",
   "pygments_lexer": "ipython3",
   "version": "3.10.13"
  },
  "orig_nbformat": 4
 },
 "nbformat": 4,
 "nbformat_minor": 2
}
