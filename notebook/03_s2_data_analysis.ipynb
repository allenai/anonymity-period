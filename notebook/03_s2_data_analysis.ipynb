{
 "cells": [
  {
   "attachments": {},
   "cell_type": "markdown",
   "metadata": {},
   "source": [
    "# Analysis of S2 Citation Data of ICLR Submissions\n",
    "\n",
    "(C) David Wadden"
   ]
  },
  {
   "cell_type": "code",
   "execution_count": 2,
   "metadata": {},
   "outputs": [],
   "source": [
    "import pandas as pd\n",
    "from pathlib import Path\n",
    "import json\n",
    "import numpy as np\n",
    "from collections import Counter\n",
    "import os\n",
    "from pathlib import Path\n"
   ]
  },
  {
   "cell_type": "code",
   "execution_count": 4,
   "metadata": {},
   "outputs": [
    {
     "ename": "FileNotFoundError",
     "evalue": "[Errno 2] No such file or directory: '/net/nfs.cirrascale/allennlp/davidw/proj/anonymity-period/data/baby_iclr_ids_and_dates.csv'",
     "output_type": "error",
     "traceback": [
      "\u001b[0;31m---------------------------------------------------------------------------\u001b[0m",
      "\u001b[0;31mFileNotFoundError\u001b[0m                         Traceback (most recent call last)",
      "\u001b[1;32m/net/nfs.cirrascale/allennlp/davidw/proj/anonymity-period/notebook/03_s2_data_analysis.ipynb Cell 3\u001b[0m line \u001b[0;36m5\n\u001b[1;32m      <a href='vscode-notebook-cell://ssh-remote%2Ballennlp-cirrascale-51.reviz.ai2.in/net/nfs.cirrascale/allennlp/davidw/proj/anonymity-period/notebook/03_s2_data_analysis.ipynb#W2sdnNjb2RlLXJlbW90ZQ%3D%3D?line=1'>2</a>\u001b[0m data_dir \u001b[39m=\u001b[39m my_dir\u001b[39m.\u001b[39mparent \u001b[39m/\u001b[39m \u001b[39m\"\u001b[39m\u001b[39mdata\u001b[39m\u001b[39m\"\u001b[39m\n\u001b[1;32m      <a href='vscode-notebook-cell://ssh-remote%2Ballennlp-cirrascale-51.reviz.ai2.in/net/nfs.cirrascale/allennlp/davidw/proj/anonymity-period/notebook/03_s2_data_analysis.ipynb#W2sdnNjb2RlLXJlbW90ZQ%3D%3D?line=3'>4</a>\u001b[0m \u001b[39m# ICLR data with S2's and publications dates.\u001b[39;00m\n\u001b[0;32m----> <a href='vscode-notebook-cell://ssh-remote%2Ballennlp-cirrascale-51.reviz.ai2.in/net/nfs.cirrascale/allennlp/davidw/proj/anonymity-period/notebook/03_s2_data_analysis.ipynb#W2sdnNjb2RlLXJlbW90ZQ%3D%3D?line=4'>5</a>\u001b[0m df \u001b[39m=\u001b[39m pd\u001b[39m.\u001b[39;49mread_csv(data_dir \u001b[39m/\u001b[39;49m \u001b[39m\"\u001b[39;49m\u001b[39mbaby_iclr_ids_and_dates.csv\u001b[39;49m\u001b[39m\"\u001b[39;49m)\n\u001b[1;32m      <a href='vscode-notebook-cell://ssh-remote%2Ballennlp-cirrascale-51.reviz.ai2.in/net/nfs.cirrascale/allennlp/davidw/proj/anonymity-period/notebook/03_s2_data_analysis.ipynb#W2sdnNjb2RlLXJlbW90ZQ%3D%3D?line=6'>7</a>\u001b[0m \u001b[39m# Treat workshop-invited papers as rejections.\u001b[39;00m\n\u001b[1;32m      <a href='vscode-notebook-cell://ssh-remote%2Ballennlp-cirrascale-51.reviz.ai2.in/net/nfs.cirrascale/allennlp/davidw/proj/anonymity-period/notebook/03_s2_data_analysis.ipynb#W2sdnNjb2RlLXJlbW90ZQ%3D%3D?line=7'>8</a>\u001b[0m df[\u001b[39m\"\u001b[39m\u001b[39mfull_decision_with_workshop\u001b[39m\u001b[39m\"\u001b[39m] \u001b[39m=\u001b[39m df[\u001b[39m\"\u001b[39m\u001b[39mfull_decision\u001b[39m\u001b[39m\"\u001b[39m]\u001b[39m.\u001b[39mcopy()\n",
      "File \u001b[0;32m/net/nfs.cirrascale/allennlp/davidw/miniconda3/envs/anon/lib/python3.10/site-packages/pandas/io/parsers/readers.py:948\u001b[0m, in \u001b[0;36mread_csv\u001b[0;34m(filepath_or_buffer, sep, delimiter, header, names, index_col, usecols, dtype, engine, converters, true_values, false_values, skipinitialspace, skiprows, skipfooter, nrows, na_values, keep_default_na, na_filter, verbose, skip_blank_lines, parse_dates, infer_datetime_format, keep_date_col, date_parser, date_format, dayfirst, cache_dates, iterator, chunksize, compression, thousands, decimal, lineterminator, quotechar, quoting, doublequote, escapechar, comment, encoding, encoding_errors, dialect, on_bad_lines, delim_whitespace, low_memory, memory_map, float_precision, storage_options, dtype_backend)\u001b[0m\n\u001b[1;32m    935\u001b[0m kwds_defaults \u001b[39m=\u001b[39m _refine_defaults_read(\n\u001b[1;32m    936\u001b[0m     dialect,\n\u001b[1;32m    937\u001b[0m     delimiter,\n\u001b[0;32m   (...)\u001b[0m\n\u001b[1;32m    944\u001b[0m     dtype_backend\u001b[39m=\u001b[39mdtype_backend,\n\u001b[1;32m    945\u001b[0m )\n\u001b[1;32m    946\u001b[0m kwds\u001b[39m.\u001b[39mupdate(kwds_defaults)\n\u001b[0;32m--> 948\u001b[0m \u001b[39mreturn\u001b[39;00m _read(filepath_or_buffer, kwds)\n",
      "File \u001b[0;32m/net/nfs.cirrascale/allennlp/davidw/miniconda3/envs/anon/lib/python3.10/site-packages/pandas/io/parsers/readers.py:611\u001b[0m, in \u001b[0;36m_read\u001b[0;34m(filepath_or_buffer, kwds)\u001b[0m\n\u001b[1;32m    608\u001b[0m _validate_names(kwds\u001b[39m.\u001b[39mget(\u001b[39m\"\u001b[39m\u001b[39mnames\u001b[39m\u001b[39m\"\u001b[39m, \u001b[39mNone\u001b[39;00m))\n\u001b[1;32m    610\u001b[0m \u001b[39m# Create the parser.\u001b[39;00m\n\u001b[0;32m--> 611\u001b[0m parser \u001b[39m=\u001b[39m TextFileReader(filepath_or_buffer, \u001b[39m*\u001b[39;49m\u001b[39m*\u001b[39;49mkwds)\n\u001b[1;32m    613\u001b[0m \u001b[39mif\u001b[39;00m chunksize \u001b[39mor\u001b[39;00m iterator:\n\u001b[1;32m    614\u001b[0m     \u001b[39mreturn\u001b[39;00m parser\n",
      "File \u001b[0;32m/net/nfs.cirrascale/allennlp/davidw/miniconda3/envs/anon/lib/python3.10/site-packages/pandas/io/parsers/readers.py:1448\u001b[0m, in \u001b[0;36mTextFileReader.__init__\u001b[0;34m(self, f, engine, **kwds)\u001b[0m\n\u001b[1;32m   1445\u001b[0m     \u001b[39mself\u001b[39m\u001b[39m.\u001b[39moptions[\u001b[39m\"\u001b[39m\u001b[39mhas_index_names\u001b[39m\u001b[39m\"\u001b[39m] \u001b[39m=\u001b[39m kwds[\u001b[39m\"\u001b[39m\u001b[39mhas_index_names\u001b[39m\u001b[39m\"\u001b[39m]\n\u001b[1;32m   1447\u001b[0m \u001b[39mself\u001b[39m\u001b[39m.\u001b[39mhandles: IOHandles \u001b[39m|\u001b[39m \u001b[39mNone\u001b[39;00m \u001b[39m=\u001b[39m \u001b[39mNone\u001b[39;00m\n\u001b[0;32m-> 1448\u001b[0m \u001b[39mself\u001b[39m\u001b[39m.\u001b[39m_engine \u001b[39m=\u001b[39m \u001b[39mself\u001b[39;49m\u001b[39m.\u001b[39;49m_make_engine(f, \u001b[39mself\u001b[39;49m\u001b[39m.\u001b[39;49mengine)\n",
      "File \u001b[0;32m/net/nfs.cirrascale/allennlp/davidw/miniconda3/envs/anon/lib/python3.10/site-packages/pandas/io/parsers/readers.py:1705\u001b[0m, in \u001b[0;36mTextFileReader._make_engine\u001b[0;34m(self, f, engine)\u001b[0m\n\u001b[1;32m   1703\u001b[0m     \u001b[39mif\u001b[39;00m \u001b[39m\"\u001b[39m\u001b[39mb\u001b[39m\u001b[39m\"\u001b[39m \u001b[39mnot\u001b[39;00m \u001b[39min\u001b[39;00m mode:\n\u001b[1;32m   1704\u001b[0m         mode \u001b[39m+\u001b[39m\u001b[39m=\u001b[39m \u001b[39m\"\u001b[39m\u001b[39mb\u001b[39m\u001b[39m\"\u001b[39m\n\u001b[0;32m-> 1705\u001b[0m \u001b[39mself\u001b[39m\u001b[39m.\u001b[39mhandles \u001b[39m=\u001b[39m get_handle(\n\u001b[1;32m   1706\u001b[0m     f,\n\u001b[1;32m   1707\u001b[0m     mode,\n\u001b[1;32m   1708\u001b[0m     encoding\u001b[39m=\u001b[39;49m\u001b[39mself\u001b[39;49m\u001b[39m.\u001b[39;49moptions\u001b[39m.\u001b[39;49mget(\u001b[39m\"\u001b[39;49m\u001b[39mencoding\u001b[39;49m\u001b[39m\"\u001b[39;49m, \u001b[39mNone\u001b[39;49;00m),\n\u001b[1;32m   1709\u001b[0m     compression\u001b[39m=\u001b[39;49m\u001b[39mself\u001b[39;49m\u001b[39m.\u001b[39;49moptions\u001b[39m.\u001b[39;49mget(\u001b[39m\"\u001b[39;49m\u001b[39mcompression\u001b[39;49m\u001b[39m\"\u001b[39;49m, \u001b[39mNone\u001b[39;49;00m),\n\u001b[1;32m   1710\u001b[0m     memory_map\u001b[39m=\u001b[39;49m\u001b[39mself\u001b[39;49m\u001b[39m.\u001b[39;49moptions\u001b[39m.\u001b[39;49mget(\u001b[39m\"\u001b[39;49m\u001b[39mmemory_map\u001b[39;49m\u001b[39m\"\u001b[39;49m, \u001b[39mFalse\u001b[39;49;00m),\n\u001b[1;32m   1711\u001b[0m     is_text\u001b[39m=\u001b[39;49mis_text,\n\u001b[1;32m   1712\u001b[0m     errors\u001b[39m=\u001b[39;49m\u001b[39mself\u001b[39;49m\u001b[39m.\u001b[39;49moptions\u001b[39m.\u001b[39;49mget(\u001b[39m\"\u001b[39;49m\u001b[39mencoding_errors\u001b[39;49m\u001b[39m\"\u001b[39;49m, \u001b[39m\"\u001b[39;49m\u001b[39mstrict\u001b[39;49m\u001b[39m\"\u001b[39;49m),\n\u001b[1;32m   1713\u001b[0m     storage_options\u001b[39m=\u001b[39;49m\u001b[39mself\u001b[39;49m\u001b[39m.\u001b[39;49moptions\u001b[39m.\u001b[39;49mget(\u001b[39m\"\u001b[39;49m\u001b[39mstorage_options\u001b[39;49m\u001b[39m\"\u001b[39;49m, \u001b[39mNone\u001b[39;49;00m),\n\u001b[1;32m   1714\u001b[0m )\n\u001b[1;32m   1715\u001b[0m \u001b[39massert\u001b[39;00m \u001b[39mself\u001b[39m\u001b[39m.\u001b[39mhandles \u001b[39mis\u001b[39;00m \u001b[39mnot\u001b[39;00m \u001b[39mNone\u001b[39;00m\n\u001b[1;32m   1716\u001b[0m f \u001b[39m=\u001b[39m \u001b[39mself\u001b[39m\u001b[39m.\u001b[39mhandles\u001b[39m.\u001b[39mhandle\n",
      "File \u001b[0;32m/net/nfs.cirrascale/allennlp/davidw/miniconda3/envs/anon/lib/python3.10/site-packages/pandas/io/common.py:863\u001b[0m, in \u001b[0;36mget_handle\u001b[0;34m(path_or_buf, mode, encoding, compression, memory_map, is_text, errors, storage_options)\u001b[0m\n\u001b[1;32m    858\u001b[0m \u001b[39melif\u001b[39;00m \u001b[39misinstance\u001b[39m(handle, \u001b[39mstr\u001b[39m):\n\u001b[1;32m    859\u001b[0m     \u001b[39m# Check whether the filename is to be opened in binary mode.\u001b[39;00m\n\u001b[1;32m    860\u001b[0m     \u001b[39m# Binary mode does not support 'encoding' and 'newline'.\u001b[39;00m\n\u001b[1;32m    861\u001b[0m     \u001b[39mif\u001b[39;00m ioargs\u001b[39m.\u001b[39mencoding \u001b[39mand\u001b[39;00m \u001b[39m\"\u001b[39m\u001b[39mb\u001b[39m\u001b[39m\"\u001b[39m \u001b[39mnot\u001b[39;00m \u001b[39min\u001b[39;00m ioargs\u001b[39m.\u001b[39mmode:\n\u001b[1;32m    862\u001b[0m         \u001b[39m# Encoding\u001b[39;00m\n\u001b[0;32m--> 863\u001b[0m         handle \u001b[39m=\u001b[39m \u001b[39mopen\u001b[39;49m(\n\u001b[1;32m    864\u001b[0m             handle,\n\u001b[1;32m    865\u001b[0m             ioargs\u001b[39m.\u001b[39;49mmode,\n\u001b[1;32m    866\u001b[0m             encoding\u001b[39m=\u001b[39;49mioargs\u001b[39m.\u001b[39;49mencoding,\n\u001b[1;32m    867\u001b[0m             errors\u001b[39m=\u001b[39;49merrors,\n\u001b[1;32m    868\u001b[0m             newline\u001b[39m=\u001b[39;49m\u001b[39m\"\u001b[39;49m\u001b[39m\"\u001b[39;49m,\n\u001b[1;32m    869\u001b[0m         )\n\u001b[1;32m    870\u001b[0m     \u001b[39melse\u001b[39;00m:\n\u001b[1;32m    871\u001b[0m         \u001b[39m# Binary mode\u001b[39;00m\n\u001b[1;32m    872\u001b[0m         handle \u001b[39m=\u001b[39m \u001b[39mopen\u001b[39m(handle, ioargs\u001b[39m.\u001b[39mmode)\n",
      "\u001b[0;31mFileNotFoundError\u001b[0m: [Errno 2] No such file or directory: '/net/nfs.cirrascale/allennlp/davidw/proj/anonymity-period/data/baby_iclr_ids_and_dates.csv'"
     ]
    }
   ],
   "source": [
    "my_dir = Path(os.getcwd())\n",
    "data_dir = my_dir.parent / \"data\"\n",
    "\n",
    "# ICLR data with S2's and publications dates.\n",
    "df = pd.read_csv(data_dir / \"baby_iclr_ids_and_dates.csv\")\n",
    "\n",
    "# Treat workshop-invited papers as rejections.\n",
    "df[\"full_decision_with_workshop\"] = df[\"full_decision\"].copy()\n",
    "df[\"full_decision\"] = df[\"full_decision\"].replace(\"Invite to Workshop Track\", \"Reject\")\n",
    "\n",
    "\n",
    "# Citations for all submitted ICLR papers.\n",
    "citations = [json.loads(line) for line in open(data_dir / \"baby_iclr_citations.jsonl\")]\n"
   ]
  },
  {
   "attachments": {},
   "cell_type": "markdown",
   "metadata": {},
   "source": [
    "## Data checks\n",
    "\n",
    "Look at distribution of decisions. We can probably just throw out \"invite to workshop\"; seems like an edge case."
   ]
  },
  {
   "cell_type": "code",
   "execution_count": 5,
   "metadata": {},
   "outputs": [
    {
     "data": {
      "text/plain": [
       "full_decision_with_workshop\n",
       "Reject                      6483\n",
       "Accept (Poster)             3063\n",
       "Accept (Spotlight)           398\n",
       "Accept (Oral)                169\n",
       "Invite to Workshop Track     136\n",
       "Accept (Talk)                 48\n",
       "Name: count, dtype: int64"
      ]
     },
     "execution_count": 5,
     "metadata": {},
     "output_type": "execute_result"
    }
   ],
   "source": [
    "df.full_decision_with_workshop.value_counts()\n"
   ]
  },
  {
   "cell_type": "code",
   "execution_count": 6,
   "metadata": {},
   "outputs": [
    {
     "data": {
      "text/plain": [
       "full_decision\n",
       "Reject                6619\n",
       "Accept (Poster)       3063\n",
       "Accept (Spotlight)     398\n",
       "Accept (Oral)          169\n",
       "Accept (Talk)           48\n",
       "Name: count, dtype: int64"
      ]
     },
     "execution_count": 6,
     "metadata": {},
     "output_type": "execute_result"
    }
   ],
   "source": [
    "df.full_decision.value_counts()\n"
   ]
  },
  {
   "cell_type": "code",
   "execution_count": 7,
   "metadata": {},
   "outputs": [
    {
     "data": {
      "text/plain": [
       "10297"
      ]
     },
     "execution_count": 7,
     "metadata": {},
     "output_type": "execute_result"
    }
   ],
   "source": [
    "len(df)\n"
   ]
  },
  {
   "attachments": {},
   "cell_type": "markdown",
   "metadata": {},
   "source": [
    "Distribution of conference years."
   ]
  },
  {
   "cell_type": "code",
   "execution_count": 8,
   "metadata": {},
   "outputs": [
    {
     "data": {
      "text/plain": [
       "year\n",
       "2017     490\n",
       "2018     910\n",
       "2019    1419\n",
       "2020    2213\n",
       "2021    2595\n",
       "2022    2670\n",
       "Name: count, dtype: int64"
      ]
     },
     "execution_count": 8,
     "metadata": {},
     "output_type": "execute_result"
    }
   ],
   "source": [
    "df.year.value_counts().sort_index()\n"
   ]
  },
  {
   "cell_type": "code",
   "execution_count": 9,
   "metadata": {},
   "outputs": [
    {
     "data": {
      "text/plain": [
       "year  arxiv_first\n",
       "2017  False           490\n",
       "2018  False           889\n",
       "      True             21\n",
       "2019  False          1359\n",
       "      True             60\n",
       "2020  False          1675\n",
       "      True            538\n",
       "2021  False          2062\n",
       "      True            533\n",
       "2022  False          2229\n",
       "      True            441\n",
       "Name: count, dtype: int64"
      ]
     },
     "execution_count": 9,
     "metadata": {},
     "output_type": "execute_result"
    }
   ],
   "source": [
    "df.groupby(\"year\").arxiv_first.value_counts()\n"
   ]
  },
  {
   "attachments": {},
   "cell_type": "markdown",
   "metadata": {},
   "source": [
    "Find out how many submissions we missed (i.e. couldn't find S2 ID's for).\n",
    "\n",
    "**NOTE**: Nearly all the submissions we can't get data on are for rejected papers, since many of these were likely never arXiv'd. We might need to account for this somehow.\n",
    "\n",
    "- For papers that were accepted, we're missing 1.1%\n",
    "- For papers that were rejected, we're missing 19.8%. These were likely withdrawn and then never released publicly."
   ]
  },
  {
   "cell_type": "code",
   "execution_count": 10,
   "metadata": {},
   "outputs": [
    {
     "name": "stdout",
     "output_type": "stream",
     "text": [
      "1325 / 10297 submissions missed.\n",
      "5336 / 6619 (80.6%) rejected submissions found.\n",
      "3636 / 3678 (98.9%) accepted submissions found.\n"
     ]
    }
   ],
   "source": [
    "missed = (df[\"s2_id\"] == -1).sum()\n",
    "print(f\"{missed} / {len(df)} submissions missed.\")\n",
    "\n",
    "# Look at this for accepted vs. not.\n",
    "df_reject = df[df[\"full_decision\"].str.contains(\"Reject\")]\n",
    "df_accept = df[df[\"full_decision\"].str.contains(\"Accept\")]\n",
    "\n",
    "missed_reject = (df_reject[\"s2_id\"] == -1).sum()\n",
    "kept_reject = len(df_reject) - missed_reject\n",
    "pct_found_reject = round((kept_reject / len(df_reject)) * 100, 1)\n",
    "print(f\"{kept_reject} / {len(df_reject)} ({pct_found_reject}%) rejected submissions found.\")\n",
    "\n",
    "missed_accept = (df_accept[\"s2_id\"] == -1).sum()\n",
    "kept_accept = len(df_accept) - missed_accept\n",
    "pct_found_accept = round((kept_accept / len(df_accept)) * 100, 1)\n",
    "print(f\"{kept_accept} / {len(df_accept)} ({pct_found_accept}%) accepted submissions found.\")\n"
   ]
  },
  {
   "attachments": {},
   "cell_type": "markdown",
   "metadata": {},
   "source": [
    "Look at publication date coverage for papers where we got the S2 ID.\n",
    "\n",
    "- Nearly all papers have a publication year.\n",
    "- Roughly 10% of papers don't have a citation date\n",
    "- Missingness isn't dramatically different for accepted vs. rejected papers.\n",
    "- **Conclusion**: It should be fine to just toss out the papers with no citation date."
   ]
  },
  {
   "cell_type": "code",
   "execution_count": 11,
   "metadata": {},
   "outputs": [
    {
     "name": "stdout",
     "output_type": "stream",
     "text": [
      "9 / 8972 papers have no year.\n",
      "884 / 8972 (9.9%) papers have no exact date.\n",
      "4879 / 5336 (91.4%) `reject` papers have an exact date.\n",
      "3209 / 3636 (88.3%) `accept` papers have an exact date.\n"
     ]
    }
   ],
   "source": [
    "df_s2 = df[df[\"s2_id\"] != -1]\n",
    "num_papers = len(df_s2)\n",
    "no_year = df_s2[\"publication_year\"].isna().sum()\n",
    "no_date = df_s2[\"publication_date\"].isna().sum()\n",
    "\n",
    "msg = f\"{no_year} / {num_papers} papers have no year.\"\n",
    "print(msg)\n",
    "\n",
    "pct_missing = round((no_date / num_papers) * 100, 1)\n",
    "msg = f\"{no_date} / {num_papers} ({pct_missing}%) papers have no exact date.\"\n",
    "print(msg)\n",
    "\n",
    "# Look at whether missing dates are biased toward accepted or rejected papers.\n",
    "df_s2_reject = df_s2[df_s2[\"full_decision\"].str.contains(\"Reject\")]\n",
    "df_s2_accept = df_s2[df_s2[\"full_decision\"].str.contains(\"Accept\")]\n",
    "\n",
    "for name, this_df in [(\"reject\", df_s2_reject), (\"accept\", df_s2_accept)]:\n",
    "    num_papers = len(this_df)\n",
    "    no_date = this_df[\"publication_date\"].isna().sum()\n",
    "    has_date = num_papers - no_date\n",
    "    pct_found = round((has_date / num_papers) * 100, 1)\n",
    "    msg = f\"{has_date} / {num_papers} ({pct_found}%) `{name}` papers have an exact date.\"\n",
    "    print(msg)\n"
   ]
  },
  {
   "attachments": {},
   "cell_type": "markdown",
   "metadata": {},
   "source": [
    "Check that publication date missingness doesn't correlate with preprinting"
   ]
  },
  {
   "cell_type": "code",
   "execution_count": 16,
   "metadata": {},
   "outputs": [
    {
     "name": "stdout",
     "output_type": "stream",
     "text": [
      "When arXiv is False, 10.8% of papers have no exact date.\n",
      "When arXiv is True, 5.5% of papers have no exact date.\n"
     ]
    }
   ],
   "source": [
    "for val, groupdf in df_s2.groupby(\"arxiv_first\"):\n",
    "    num_na = groupdf[\"publication_date\"].isna().sum()\n",
    "    frac_na = round((num_na / len(groupdf)) * 100, 1)\n",
    "    msg = f\"When arXiv is {val}, {frac_na}% of papers have no exact date.\"\n",
    "    print(msg)\n"
   ]
  },
  {
   "attachments": {},
   "cell_type": "markdown",
   "metadata": {},
   "source": [
    "## Checks on cited papers\n",
    "\n",
    "Get info on the cited papers. Roughly 15% of cited papers are missing publication dates, but this is virtually identical between accepted vs. rejected papers. So, I think it's probably OK to just throw these out as well."
   ]
  },
  {
   "cell_type": "code",
   "execution_count": null,
   "metadata": {},
   "outputs": [],
   "source": [
    "citations = [json.loads(line) for line in open(data_dir / \"baby_iclr_citations.jsonl\")]\n"
   ]
  },
  {
   "cell_type": "code",
   "execution_count": null,
   "metadata": {},
   "outputs": [],
   "source": [
    "counts = {\"Accept\": Counter(), \"Reject\": Counter()}\n",
    "\n",
    "for entry in citations:\n",
    "    if entry[\"status\"] != \"Success\":\n",
    "        continue\n",
    "    else:\n",
    "        query = f\"s2_id == {entry['s2_id']}\"\n",
    "        decision = df.query(query).iloc[0][\"full_decision\"]\n",
    "        decision = decision.split(\" \")[0]\n",
    "        if decision not in [\"Accept\", \"Reject\"]:\n",
    "            continue\n",
    "        cites = entry[\"citations\"]\n",
    "        for cite in cites:\n",
    "            if cite[\"citingPaper\"][\"publicationDate\"] is None:\n",
    "                counts[decision][\"no_date\"] += 1\n",
    "            else:\n",
    "                counts[decision][\"has_date\"] += 1\n",
    "\n",
    "for name in [\"Accept\", \"Reject\"]:\n",
    "    counts_loop = counts[name]\n",
    "    total = counts_loop[\"has_date\"] + counts_loop[\"no_date\"]\n",
    "    no_date = counts_loop[\"no_date\"]\n",
    "    pct_missing = round((no_date / total) * 100, 1)\n",
    "    msg = f\"{no_date} / {total} ({pct_missing}%) `{name}` cited papers have no exact date.\"\n",
    "    print(msg)\n"
   ]
  },
  {
   "cell_type": "code",
   "execution_count": null,
   "metadata": {},
   "outputs": [],
   "source": [
    "df.query(f\"title == '{entry['title']}' & s2_id == {entry['s2_id']}\").iloc[0][\"full_decision\"]\n"
   ]
  },
  {
   "attachments": {},
   "cell_type": "markdown",
   "metadata": {},
   "source": [
    "## Citation analysis"
   ]
  },
  {
   "cell_type": "code",
   "execution_count": null,
   "metadata": {},
   "outputs": [],
   "source": [
    "result_dir = Path(\"/net/nfs.cirrascale/allennlp/davidw/proj/end-of-anonymity/results\")\n",
    "cite_counts = pd.read_csv(result_dir / \"citations_within_year.csv\")\n"
   ]
  },
  {
   "attachments": {},
   "cell_type": "markdown",
   "metadata": {},
   "source": [
    "Look at number of citations a year out, comparing papers that were accepted vs. rejected.\n",
    "Papers that were accepted were cited more."
   ]
  },
  {
   "cell_type": "code",
   "execution_count": null,
   "metadata": {},
   "outputs": [],
   "source": [
    "cite_counts[\"short_decision\"] = [x.split(\" \")[0] for x in cite_counts[\"full_decision\"]]\n",
    "cite_counts.groupby(\"short_decision\")[\"cites_within_year\"].describe()\n"
   ]
  },
  {
   "attachments": {},
   "cell_type": "markdown",
   "metadata": {},
   "source": [
    "Look at citations a year out, comparing papers that were arXiv'd vs. not.\n",
    "It looks like arXiv'ing doesn't make a big difference, at least in mean."
   ]
  },
  {
   "cell_type": "code",
   "execution_count": null,
   "metadata": {},
   "outputs": [],
   "source": [
    "cite_counts.groupby(\"arxiv_first\")[\"cites_within_year\"].describe()\n"
   ]
  },
  {
   "attachments": {},
   "cell_type": "markdown",
   "metadata": {},
   "source": [
    "Look at acceptance rate for papers that were arXiv'd vs. not.\n",
    "Papers that were arXiv'd first are more likely to be accepted."
   ]
  },
  {
   "cell_type": "code",
   "execution_count": null,
   "metadata": {},
   "outputs": [],
   "source": [
    "cite_counts.groupby(\"arxiv_first\").apply(lambda group: (group[\"short_decision\"] == \"Accept\").mean())\n"
   ]
  }
 ],
 "metadata": {
  "kernelspec": {
   "display_name": "base",
   "language": "python",
   "name": "python3"
  },
  "language_info": {
   "codemirror_mode": {
    "name": "ipython",
    "version": 3
   },
   "file_extension": ".py",
   "mimetype": "text/x-python",
   "name": "python",
   "nbconvert_exporter": "python",
   "pygments_lexer": "ipython3",
   "version": "3.10.13"
  },
  "orig_nbformat": 4
 },
 "nbformat": 4,
 "nbformat_minor": 2
}
