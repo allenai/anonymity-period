{
 "cells": [
  {
   "attachments": {},
   "cell_type": "markdown",
   "metadata": {},
   "source": [
    "# Analysis of ICLR citation data"
   ]
  },
  {
   "cell_type": "code",
   "execution_count": 3,
   "metadata": {},
   "outputs": [],
   "source": [
    "from pathlib import Path\n",
    "import pandas as pd\n",
    "import json\n",
    "import numpy as np\n",
    "from collections import Counter"
   ]
  },
  {
   "cell_type": "code",
   "execution_count": 4,
   "metadata": {},
   "outputs": [],
   "source": [
    "data_dir = Path(\"/net/nfs.cirrascale/allennlp/davidw/proj/end-of-anonymity/data\")\n",
    "\n",
    "# ICLR data with S2's and publications dates.\n",
    "df = pd.read_csv(data_dir / \"baby_iclr_ids_and_dates.csv\")\n",
    "\n",
    "# Treat workshop-invited papers as rejections.\n",
    "df[\"full_decision_with_workshop\"] = df[\"full_decision\"].copy()\n",
    "df[\"full_decision\"] = df[\"full_decision\"].replace(\"Invite to Workshop Track\", \"Reject\")\n",
    "\n",
    "\n",
    "# Citations for all submitted ICLR papers.\n",
    "citations = [json.loads(line) for line in open(data_dir / \"baby_iclr_citations.jsonl\")]"
   ]
  },
  {
   "attachments": {},
   "cell_type": "markdown",
   "metadata": {},
   "source": [
    "## Data checks\n",
    "\n",
    "Look at distribution of decisions. We can probably just throw out \"invite to workshop\"; seems like an edge case."
   ]
  },
  {
   "cell_type": "code",
   "execution_count": 5,
   "metadata": {},
   "outputs": [
    {
     "data": {
      "text/plain": [
       "full_decision_with_workshop\n",
       "Reject                      6483\n",
       "Accept (Poster)             3063\n",
       "Accept (Spotlight)           398\n",
       "Accept (Oral)                169\n",
       "Invite to Workshop Track     136\n",
       "Accept (Talk)                 48\n",
       "Name: count, dtype: int64"
      ]
     },
     "execution_count": 5,
     "metadata": {},
     "output_type": "execute_result"
    }
   ],
   "source": [
    "df.full_decision_with_workshop.value_counts()"
   ]
  },
  {
   "cell_type": "code",
   "execution_count": 6,
   "metadata": {},
   "outputs": [
    {
     "data": {
      "text/plain": [
       "full_decision\n",
       "Reject                6619\n",
       "Accept (Poster)       3063\n",
       "Accept (Spotlight)     398\n",
       "Accept (Oral)          169\n",
       "Accept (Talk)           48\n",
       "Name: count, dtype: int64"
      ]
     },
     "execution_count": 6,
     "metadata": {},
     "output_type": "execute_result"
    }
   ],
   "source": [
    "df.full_decision.value_counts()"
   ]
  },
  {
   "cell_type": "code",
   "execution_count": 7,
   "metadata": {},
   "outputs": [
    {
     "data": {
      "text/plain": [
       "10297"
      ]
     },
     "execution_count": 7,
     "metadata": {},
     "output_type": "execute_result"
    }
   ],
   "source": [
    "len(df)"
   ]
  },
  {
   "attachments": {},
   "cell_type": "markdown",
   "metadata": {},
   "source": [
    "Distribution of conference years."
   ]
  },
  {
   "cell_type": "code",
   "execution_count": 8,
   "metadata": {},
   "outputs": [
    {
     "data": {
      "text/plain": [
       "year\n",
       "2017     490\n",
       "2018     910\n",
       "2019    1419\n",
       "2020    2213\n",
       "2021    2595\n",
       "2022    2670\n",
       "Name: count, dtype: int64"
      ]
     },
     "execution_count": 8,
     "metadata": {},
     "output_type": "execute_result"
    }
   ],
   "source": [
    "df.year.value_counts().sort_index()"
   ]
  },
  {
   "cell_type": "code",
   "execution_count": 9,
   "metadata": {},
   "outputs": [
    {
     "data": {
      "text/plain": [
       "year  arxiv_first\n",
       "2017  False           490\n",
       "2018  False           889\n",
       "      True             21\n",
       "2019  False          1359\n",
       "      True             60\n",
       "2020  False          1675\n",
       "      True            538\n",
       "2021  False          2062\n",
       "      True            533\n",
       "2022  False          2229\n",
       "      True            441\n",
       "Name: count, dtype: int64"
      ]
     },
     "execution_count": 9,
     "metadata": {},
     "output_type": "execute_result"
    }
   ],
   "source": [
    "df.groupby(\"year\").arxiv_first.value_counts()"
   ]
  },
  {
   "attachments": {},
   "cell_type": "markdown",
   "metadata": {},
   "source": [
    "Find out how many submissions we missed (i.e. couldn't find S2 ID's for).\n",
    "\n",
    "**NOTE**: Nearly all the submissions we can't get data on are for rejected papers, since many of these were likely never arXiv'd. We might need to account for this somehow.\n",
    "\n",
    "- For papers that were accepted, we're missing 1.1%\n",
    "- For papers that were rejected, we're missing 19.8%. These were likely withdrawn and then never released publicly."
   ]
  },
  {
   "cell_type": "code",
   "execution_count": 10,
   "metadata": {},
   "outputs": [
    {
     "name": "stdout",
     "output_type": "stream",
     "text": [
      "1325 / 10297 submissions missed.\n",
      "5336 / 6619 (80.6%) rejected submissions found.\n",
      "3636 / 3678 (98.9%) accepted submissions found.\n"
     ]
    }
   ],
   "source": [
    "missed = (df[\"s2_id\"] == -1).sum()\n",
    "print(f\"{missed} / {len(df)} submissions missed.\")\n",
    "\n",
    "# Look at this for accepted vs. not.\n",
    "df_reject = df[df[\"full_decision\"].str.contains(\"Reject\")]\n",
    "df_accept = df[df[\"full_decision\"].str.contains(\"Accept\")]\n",
    "\n",
    "missed_reject = (df_reject[\"s2_id\"] == -1).sum()\n",
    "kept_reject = len(df_reject) - missed_reject\n",
    "pct_found_reject = round((kept_reject / len(df_reject)) * 100, 1)\n",
    "print(f\"{kept_reject} / {len(df_reject)} ({pct_found_reject}%) rejected submissions found.\")\n",
    "\n",
    "missed_accept = (df_accept[\"s2_id\"] == -1).sum()\n",
    "kept_accept = len(df_accept) - missed_accept\n",
    "pct_found_accept = round((kept_accept / len(df_accept)) * 100, 1)\n",
    "print(f\"{kept_accept} / {len(df_accept)} ({pct_found_accept}%) accepted submissions found.\")"
   ]
  },
  {
   "attachments": {},
   "cell_type": "markdown",
   "metadata": {},
   "source": [
    "Look at publication date coverage for papers where we got the S2 ID.\n",
    "\n",
    "- Nearly all papers have a publication year.\n",
    "- Roughly 10% of papers don't have a citation date\n",
    "- Missingness isn't dramatically different for accepted vs. rejected papers.\n",
    "- **Conclusion**: It should be fine to just toss out the papers with no citation date."
   ]
  },
  {
   "cell_type": "code",
   "execution_count": 11,
   "metadata": {},
   "outputs": [
    {
     "name": "stdout",
     "output_type": "stream",
     "text": [
      "9 / 8972 papers have no year.\n",
      "884 / 8972 (9.9%) papers have no exact date.\n",
      "4879 / 5336 (91.4%) `reject` papers have an exact date.\n",
      "3209 / 3636 (88.3%) `accept` papers have an exact date.\n"
     ]
    }
   ],
   "source": [
    "df_s2 = df[df[\"s2_id\"] != -1]\n",
    "num_papers = len(df_s2)\n",
    "no_year = df_s2[\"publication_year\"].isna().sum()\n",
    "no_date = df_s2[\"publication_date\"].isna().sum()\n",
    "\n",
    "msg = f\"{no_year} / {num_papers} papers have no year.\"\n",
    "print(msg)\n",
    "\n",
    "pct_missing = round((no_date / num_papers) * 100, 1)\n",
    "msg = f\"{no_date} / {num_papers} ({pct_missing}%) papers have no exact date.\"\n",
    "print(msg)\n",
    "\n",
    "# Look at whether missing dates are biased toward accepted or rejected papers.\n",
    "df_s2_reject = df_s2[df_s2[\"full_decision\"].str.contains(\"Reject\")]\n",
    "df_s2_accept = df_s2[df_s2[\"full_decision\"].str.contains(\"Accept\")]\n",
    "\n",
    "for name, this_df in [(\"reject\", df_s2_reject), (\"accept\", df_s2_accept)]:\n",
    "    num_papers = len(this_df)\n",
    "    no_date = this_df[\"publication_date\"].isna().sum()\n",
    "    has_date = num_papers - no_date\n",
    "    pct_found = round((has_date / num_papers) * 100, 1)\n",
    "    msg = f\"{has_date} / {num_papers} ({pct_found}%) `{name}` papers have an exact date.\"\n",
    "    print(msg)\n"
   ]
  },
  {
   "attachments": {},
   "cell_type": "markdown",
   "metadata": {},
   "source": [
    "Check that publication date missingness doesn't correlate with preprinting"
   ]
  },
  {
   "cell_type": "code",
   "execution_count": 16,
   "metadata": {},
   "outputs": [
    {
     "name": "stdout",
     "output_type": "stream",
     "text": [
      "When arXiv is False, 10.8% of papers have no exact date.\n",
      "When arXiv is True, 5.5% of papers have no exact date.\n"
     ]
    }
   ],
   "source": [
    "for val, groupdf in df_s2.groupby(\"arxiv_first\"):\n",
    "    num_na = groupdf[\"publication_date\"].isna().sum()\n",
    "    frac_na = round((num_na / len(groupdf)) * 100, 1)\n",
    "    msg = f\"When arXiv is {val}, {frac_na}% of papers have no exact date.\"\n",
    "    print(msg)"
   ]
  },
  {
   "attachments": {},
   "cell_type": "markdown",
   "metadata": {},
   "source": [
    "## Checks on cited papers\n",
    "\n",
    "Get info on the cited papers. Roughly 15% of cited papers are missing publication dates, but this is virtually identical between accepted vs. rejected papers. So, I think it's probably OK to just throw these out as well."
   ]
  },
  {
   "cell_type": "code",
   "execution_count": null,
   "metadata": {},
   "outputs": [],
   "source": [
    "citations = [json.loads(line) for line in open(data_dir / \"baby_iclr_citations.jsonl\")]"
   ]
  },
  {
   "cell_type": "code",
   "execution_count": null,
   "metadata": {},
   "outputs": [],
   "source": [
    "counts = {\"Accept\": Counter(), \"Reject\": Counter()}\n",
    "\n",
    "for entry in citations:\n",
    "    if entry[\"status\"] != \"Success\":\n",
    "        continue\n",
    "    else:\n",
    "        query = f\"s2_id == {entry['s2_id']}\"\n",
    "        decision = df.query(query).iloc[0][\"full_decision\"]\n",
    "        decision = decision.split(\" \")[0]\n",
    "        if decision not in [\"Accept\", \"Reject\"]:\n",
    "            continue\n",
    "        cites = entry[\"citations\"]\n",
    "        for cite in cites:\n",
    "            if cite[\"citingPaper\"][\"publicationDate\"] is None:\n",
    "                counts[decision][\"no_date\"] += 1\n",
    "            else:\n",
    "                counts[decision][\"has_date\"] += 1\n",
    "\n",
    "for name in [\"Accept\", \"Reject\"]:\n",
    "    counts_loop = counts[name]\n",
    "    total = counts_loop[\"has_date\"] + counts_loop[\"no_date\"]\n",
    "    no_date = counts_loop[\"no_date\"]\n",
    "    pct_missing = round((no_date / total) * 100, 1)\n",
    "    msg = f\"{no_date} / {total} ({pct_missing}%) `{name}` cited papers have no exact date.\"\n",
    "    print(msg)\n"
   ]
  },
  {
   "cell_type": "code",
   "execution_count": null,
   "metadata": {},
   "outputs": [],
   "source": [
    "df.query(f\"title == '{entry['title']}' & s2_id == {entry['s2_id']}\").iloc[0][\"full_decision\"]"
   ]
  },
  {
   "attachments": {},
   "cell_type": "markdown",
   "metadata": {},
   "source": [
    "## Citation analysis"
   ]
  },
  {
   "cell_type": "code",
   "execution_count": null,
   "metadata": {},
   "outputs": [],
   "source": [
    "result_dir = Path(\"/net/nfs.cirrascale/allennlp/davidw/proj/end-of-anonymity/results\")\n",
    "cite_counts = pd.read_csv(result_dir / \"citations_within_year.csv\")"
   ]
  },
  {
   "attachments": {},
   "cell_type": "markdown",
   "metadata": {},
   "source": [
    "Look at number of citations a year out, comparing papers that were accepted vs. rejected.\n",
    "Papers that were accepted were cited more."
   ]
  },
  {
   "cell_type": "code",
   "execution_count": null,
   "metadata": {},
   "outputs": [],
   "source": [
    "cite_counts[\"short_decision\"] = [x.split(\" \")[0] for x in cite_counts[\"full_decision\"]]\n",
    "cite_counts.groupby(\"short_decision\")[\"cites_within_year\"].describe()"
   ]
  },
  {
   "attachments": {},
   "cell_type": "markdown",
   "metadata": {},
   "source": [
    "Look at citations a year out, comparing papers that were arXiv'd vs. not.\n",
    "It looks like arXiv'ing doesn't make a big difference, at least in mean."
   ]
  },
  {
   "cell_type": "code",
   "execution_count": null,
   "metadata": {},
   "outputs": [],
   "source": [
    "cite_counts.groupby(\"arxiv_first\")[\"cites_within_year\"].describe()"
   ]
  },
  {
   "attachments": {},
   "cell_type": "markdown",
   "metadata": {},
   "source": [
    "Look at acceptance rate for papers that were arXiv'd vs. not.\n",
    "Papers that were arXiv'd first are more likely to be accepted."
   ]
  },
  {
   "cell_type": "code",
   "execution_count": null,
   "metadata": {},
   "outputs": [],
   "source": [
    "cite_counts.groupby(\"arxiv_first\").apply(lambda group: (group[\"short_decision\"] == \"Accept\").mean())"
   ]
  }
 ],
 "metadata": {
  "kernelspec": {
   "display_name": "base",
   "language": "python",
   "name": "python3"
  },
  "language_info": {
   "codemirror_mode": {
    "name": "ipython",
    "version": 3
   },
   "file_extension": ".py",
   "mimetype": "text/x-python",
   "name": "python",
   "nbconvert_exporter": "python",
   "pygments_lexer": "ipython3",
   "version": "3.10.10"
  },
  "orig_nbformat": 4
 },
 "nbformat": 4,
 "nbformat_minor": 2
}
