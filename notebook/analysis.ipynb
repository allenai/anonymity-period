{
 "cells": [
  {
   "attachments": {},
   "cell_type": "markdown",
   "metadata": {},
   "source": [
    "# Analysis of ICLR citation data"
   ]
  },
  {
   "cell_type": "code",
   "execution_count": null,
   "metadata": {},
   "outputs": [],
   "source": [
    "from pathlib import Path\n",
    "import pandas as pd\n",
    "import json\n",
    "import numpy as np"
   ]
  },
  {
   "cell_type": "code",
   "execution_count": null,
   "metadata": {},
   "outputs": [],
   "source": [
    "data_dir = Path(\"/net/nfs.cirrascale/allennlp/davidw/proj/end-of-anonymity/data\")\n",
    "\n",
    "# ICLR data with S2's and publications dates.\n",
    "df = pd.read_csv(data_dir / \"baby_iclr_ids_and_dates.csv\")\n",
    "\n",
    "# Citations for all submitted ICLR papers.\n",
    "citations = [json.loads(line) for line in open(data_dir / \"baby_iclr_citations.jsonl\")]"
   ]
  },
  {
   "attachments": {},
   "cell_type": "markdown",
   "metadata": {},
   "source": [
    "Find out how many submissions we missed (i.e. couldn't find S2 ID's for).\n",
    "\n",
    "NOTE: Nearly all the submissions we can't get data on are for rejected papers, since many of these were likely never arXiv'd. We might need to account for this somehow."
   ]
  },
  {
   "cell_type": "code",
   "execution_count": null,
   "metadata": {},
   "outputs": [],
   "source": [
    "missed = (df[\"s2_id\"] == -1).sum()\n",
    "print(f\"{missed} / {len(df)} submissions missed.\")\n",
    "\n",
    "# Look at this for accepted vs. not.\n",
    "df_reject = df[df[\"full_decision\"].str.contains(\"Reject\")]\n",
    "df_accept = df[df[\"full_decision\"].str.contains(\"Accept\")]\n",
    "\n",
    "missed_reject = (df_reject[\"s2_id\"] == -1).sum()\n",
    "print(f\"{missed_reject} / {len(df_reject)} rejected submissions missed.\")\n",
    "\n",
    "missed_accept = (df_accept[\"s2_id\"] == -1).sum()\n",
    "print(f\"{missed_accept} / {len(df_accept)} accepted submissions missed.\")"
   ]
  },
  {
   "attachments": {},
   "cell_type": "markdown",
   "metadata": {},
   "source": [
    "## Get citations within a year-long window for each paper"
   ]
  },
  {
   "cell_type": "code",
   "execution_count": null,
   "metadata": {},
   "outputs": [],
   "source": [
    "result_dir = Path(\"/net/nfs.cirrascale/allennlp/davidw/proj/end-of-anonymity/results\")\n",
    "cite_counts = pd.read_csv(result_dir / \"citations_within_year.csv\")"
   ]
  },
  {
   "attachments": {},
   "cell_type": "markdown",
   "metadata": {},
   "source": [
    "Look at number of citations a year out, comparing papers that were accepted vs. rejected.\n",
    "Papers that were accepted were cited more."
   ]
  },
  {
   "cell_type": "code",
   "execution_count": null,
   "metadata": {},
   "outputs": [],
   "source": [
    "cite_counts[\"short_decision\"] = [x.split(\" \")[0] for x in cite_counts[\"full_decision\"]]\n",
    "cite_counts.groupby(\"short_decision\")[\"cites_within_year\"].describe()"
   ]
  },
  {
   "attachments": {},
   "cell_type": "markdown",
   "metadata": {},
   "source": [
    "Look at citations a year out, comparing papers that were arXiv'd vs. not.\n",
    "It looks like arXiv'ing doesn't make a big difference, at least in mean."
   ]
  },
  {
   "cell_type": "code",
   "execution_count": null,
   "metadata": {},
   "outputs": [],
   "source": [
    "cite_counts.groupby(\"arxiv_first\")[\"cites_within_year\"].describe()"
   ]
  },
  {
   "attachments": {},
   "cell_type": "markdown",
   "metadata": {},
   "source": [
    "Look at acceptance rate for papers that were arXiv'd vs. not.\n",
    "Papers that were arXiv'd first are more likely to be accepted."
   ]
  },
  {
   "cell_type": "code",
   "execution_count": null,
   "metadata": {},
   "outputs": [],
   "source": [
    "cite_counts.groupby(\"arxiv_first\").apply(lambda group: (group[\"short_decision\"] == \"Accept\").mean())"
   ]
  }
 ],
 "metadata": {
  "kernelspec": {
   "display_name": "base",
   "language": "python",
   "name": "python3"
  },
  "language_info": {
   "codemirror_mode": {
    "name": "ipython",
    "version": 3
   },
   "file_extension": ".py",
   "mimetype": "text/x-python",
   "name": "python",
   "nbconvert_exporter": "python",
   "pygments_lexer": "ipython3",
   "version": "3.10.10"
  },
  "orig_nbformat": 4
 },
 "nbformat": 4,
 "nbformat_minor": 2
}
