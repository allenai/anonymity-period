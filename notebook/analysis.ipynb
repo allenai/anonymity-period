{
 "cells": [
  {
   "attachments": {},
   "cell_type": "markdown",
   "metadata": {},
   "source": [
    "# Analysis of ICLR citation data"
   ]
  },
  {
   "cell_type": "code",
   "execution_count": null,
   "metadata": {},
   "outputs": [],
   "source": [
    "from pathlib import Path\n",
    "import pandas as pd\n",
    "import json\n",
    "import numpy as np\n",
    "from collections import Counter"
   ]
  },
  {
   "cell_type": "code",
   "execution_count": null,
   "metadata": {},
   "outputs": [],
   "source": [
    "data_dir = Path(\"/net/nfs.cirrascale/allennlp/davidw/proj/end-of-anonymity/data\")\n",
    "\n",
    "# ICLR data with S2's and publications dates.\n",
    "df = pd.read_csv(data_dir / \"baby_iclr_ids_and_dates.csv\")\n",
    "\n",
    "# Citations for all submitted ICLR papers.\n",
    "citations = [json.loads(line) for line in open(data_dir / \"baby_iclr_citations.jsonl\")]"
   ]
  },
  {
   "attachments": {},
   "cell_type": "markdown",
   "metadata": {},
   "source": [
    "## Data checks\n",
    "\n",
    "Look at distribution of decisions. We can probably just throw out \"invite to workshop\"; seems like an edge case."
   ]
  },
  {
   "cell_type": "code",
   "execution_count": null,
   "metadata": {},
   "outputs": [],
   "source": [
    "df.full_decision.value_counts()"
   ]
  },
  {
   "attachments": {},
   "cell_type": "markdown",
   "metadata": {},
   "source": [
    "There's a few outliers for publication year; I think they should all be between 2016 and 2022? Shouldn't have a huge effect; we can clean later if initial results look promising."
   ]
  },
  {
   "cell_type": "code",
   "execution_count": null,
   "metadata": {},
   "outputs": [],
   "source": [
    "df.publication_year.value_counts().sort_index()"
   ]
  },
  {
   "cell_type": "code",
   "execution_count": null,
   "metadata": {},
   "outputs": [],
   "source": [
    "df.groupby(\"year\").arxiv_first.value_counts()"
   ]
  },
  {
   "attachments": {},
   "cell_type": "markdown",
   "metadata": {},
   "source": [
    "Find out how many submissions we missed (i.e. couldn't find S2 ID's for).\n",
    "\n",
    "**NOTE**: Nearly all the submissions we can't get data on are for rejected papers, since many of these were likely never arXiv'd. We might need to account for this somehow.\n",
    "\n",
    "- For papers that were accepted, we're missing 1.1%\n",
    "- For papers that were rejected, we're missing 19.8%. These were likely withdrawn and then never released publicly."
   ]
  },
  {
   "cell_type": "code",
   "execution_count": null,
   "metadata": {},
   "outputs": [],
   "source": [
    "missed = (df[\"s2_id\"] == -1).sum()\n",
    "print(f\"{missed} / {len(df)} submissions missed.\")\n",
    "\n",
    "# Look at this for accepted vs. not.\n",
    "df_reject = df[df[\"full_decision\"].str.contains(\"Reject\")]\n",
    "df_accept = df[df[\"full_decision\"].str.contains(\"Accept\")]\n",
    "\n",
    "missed_reject = (df_reject[\"s2_id\"] == -1).sum()\n",
    "print(f\"{missed_reject} / {len(df_reject)} rejected submissions missed.\")\n",
    "\n",
    "missed_accept = (df_accept[\"s2_id\"] == -1).sum()\n",
    "print(f\"{missed_accept} / {len(df_accept)} accepted submissions missed.\")"
   ]
  },
  {
   "attachments": {},
   "cell_type": "markdown",
   "metadata": {},
   "source": [
    "Look at publication date coverage for papers where we got the S2 ID.\n",
    "\n",
    "- Nearly all papers have a publication year.\n",
    "- Roughly 10% of papers don't have a citation date\n",
    "- Missingness isn't dramatically different for accepted vs. rejected papers.\n",
    "- **Conclusion**: It should be fine to just toss out the papers with no citation date."
   ]
  },
  {
   "cell_type": "code",
   "execution_count": null,
   "metadata": {},
   "outputs": [],
   "source": [
    "df_s2 = df[df[\"s2_id\"] != -1]\n",
    "num_papers = len(df_s2)\n",
    "no_year = df_s2[\"publication_year\"].isna().sum()\n",
    "no_date = df_s2[\"publication_date\"].isna().sum()\n",
    "\n",
    "msg = f\"{no_year} / {num_papers} papers have no year.\"\n",
    "print(msg)\n",
    "\n",
    "pct_missing = round((no_date / num_papers) * 100, 1)\n",
    "msg = f\"{no_date} / {num_papers} ({pct_missing}%) papers have no exact date.\"\n",
    "print(msg)\n",
    "\n",
    "# Look at whether missing dates are biased toward accepted or rejected papers.\n",
    "df_s2_reject = df_s2[df_s2[\"full_decision\"].str.contains(\"Reject\")]\n",
    "df_s2_accept = df_s2[df_s2[\"full_decision\"].str.contains(\"Accept\")]\n",
    "\n",
    "for name, this_df in [(\"reject\", df_s2_reject), (\"accept\", df_s2_accept)]:\n",
    "    num_papers = len(this_df)\n",
    "    no_date = this_df[\"publication_date\"].isna().sum()\n",
    "    pct_missing = round((no_date / num_papers) * 100, 1)\n",
    "    msg = f\"{no_date} / {num_papers} ({pct_missing}%) `{name}` papers have no exact date.\"\n",
    "    print(msg)\n"
   ]
  },
  {
   "attachments": {},
   "cell_type": "markdown",
   "metadata": {},
   "source": [
    "### Date spot-checks\n",
    "\n",
    "TODO\n",
    "\n",
    "Spot-check whether the publication date listed in S2 agrees with what we'd get from looking at arXiv."
   ]
  },
  {
   "attachments": {},
   "cell_type": "markdown",
   "metadata": {},
   "source": [
    "## Checks on cited papers\n",
    "\n",
    "Get info on the cited papers. Roughly 15% of cited papers are missing publication dates, but this is virtually identical between accepted vs. rejected papers. So, I think it's probably OK to just throw these out as well."
   ]
  },
  {
   "cell_type": "code",
   "execution_count": null,
   "metadata": {},
   "outputs": [],
   "source": [
    "citations = [json.loads(line) for line in open(data_dir / \"baby_iclr_citations.jsonl\")]"
   ]
  },
  {
   "cell_type": "code",
   "execution_count": null,
   "metadata": {},
   "outputs": [],
   "source": [
    "counts = {\"Accept\": Counter(), \"Reject\": Counter()}\n",
    "\n",
    "for entry in citations:\n",
    "    if entry[\"status\"] != \"Success\":\n",
    "        continue\n",
    "    else:\n",
    "        query = f\"s2_id == {entry['s2_id']}\"\n",
    "        decision = df.query(query).iloc[0][\"full_decision\"]\n",
    "        decision = decision.split(\" \")[0]\n",
    "        if decision not in [\"Accept\", \"Reject\"]:\n",
    "            continue\n",
    "        cites = entry[\"citations\"]\n",
    "        for cite in cites:\n",
    "            if cite[\"citingPaper\"][\"publicationDate\"] is None:\n",
    "                counts[decision][\"no_date\"] += 1\n",
    "            else:\n",
    "                counts[decision][\"has_date\"] += 1\n",
    "\n",
    "for name in [\"Accept\", \"Reject\"]:\n",
    "    counts_loop = counts[name]\n",
    "    total = counts_loop[\"has_date\"] + counts_loop[\"no_date\"]\n",
    "    no_date = counts_loop[\"no_date\"]\n",
    "    pct_missing = round((no_date / total) * 100, 1)\n",
    "    msg = f\"{no_date} / {total} ({pct_missing}%) `{name}` cited papers have no exact date.\"\n",
    "    print(msg)\n"
   ]
  },
  {
   "cell_type": "code",
   "execution_count": null,
   "metadata": {},
   "outputs": [],
   "source": [
    "df.query(f\"title == '{entry['title']}' & s2_id == {entry['s2_id']}\").iloc[0][\"full_decision\"]"
   ]
  },
  {
   "attachments": {},
   "cell_type": "markdown",
   "metadata": {},
   "source": [
    "## Citation analysis"
   ]
  },
  {
   "cell_type": "code",
   "execution_count": null,
   "metadata": {},
   "outputs": [],
   "source": [
    "result_dir = Path(\"/net/nfs.cirrascale/allennlp/davidw/proj/end-of-anonymity/results\")\n",
    "cite_counts = pd.read_csv(result_dir / \"citations_within_year.csv\")"
   ]
  },
  {
   "attachments": {},
   "cell_type": "markdown",
   "metadata": {},
   "source": [
    "Look at number of citations a year out, comparing papers that were accepted vs. rejected.\n",
    "Papers that were accepted were cited more."
   ]
  },
  {
   "cell_type": "code",
   "execution_count": null,
   "metadata": {},
   "outputs": [],
   "source": [
    "cite_counts[\"short_decision\"] = [x.split(\" \")[0] for x in cite_counts[\"full_decision\"]]\n",
    "cite_counts.groupby(\"short_decision\")[\"cites_within_year\"].describe()"
   ]
  },
  {
   "attachments": {},
   "cell_type": "markdown",
   "metadata": {},
   "source": [
    "Look at citations a year out, comparing papers that were arXiv'd vs. not.\n",
    "It looks like arXiv'ing doesn't make a big difference, at least in mean."
   ]
  },
  {
   "cell_type": "code",
   "execution_count": null,
   "metadata": {},
   "outputs": [],
   "source": [
    "cite_counts.groupby(\"arxiv_first\")[\"cites_within_year\"].describe()"
   ]
  },
  {
   "attachments": {},
   "cell_type": "markdown",
   "metadata": {},
   "source": [
    "Look at acceptance rate for papers that were arXiv'd vs. not.\n",
    "Papers that were arXiv'd first are more likely to be accepted."
   ]
  },
  {
   "cell_type": "code",
   "execution_count": null,
   "metadata": {},
   "outputs": [],
   "source": [
    "cite_counts.groupby(\"arxiv_first\").apply(lambda group: (group[\"short_decision\"] == \"Accept\").mean())"
   ]
  }
 ],
 "metadata": {
  "kernelspec": {
   "display_name": "base",
   "language": "python",
   "name": "python3"
  },
  "language_info": {
   "codemirror_mode": {
    "name": "ipython",
    "version": 3
   },
   "file_extension": ".py",
   "mimetype": "text/x-python",
   "name": "python",
   "nbconvert_exporter": "python",
   "pygments_lexer": "ipython3",
   "version": "3.10.10"
  },
  "orig_nbformat": 4
 },
 "nbformat": 4,
 "nbformat_minor": 2
}
