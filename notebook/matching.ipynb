{
 "cells": [
  {
   "cell_type": "markdown",
   "id": "textile-quilt",
   "metadata": {},
   "source": [
    "# Matching\n",
    "\n",
    "This is based on the code in https://arxiv.org/abs/2211.15849.\n",
    "The core procedure in `match2C` is documented at https://cran.r-project.org/web/packages/match2C/vignettes/tutorial.html.\n",
    "\n",
    "v0.1 Aggregated by Jiayao Zhang\n",
    "June 14, 2023"
   ]
  },
  {
   "cell_type": "code",
   "execution_count": 1,
   "id": "million-specific",
   "metadata": {},
   "outputs": [
    {
     "name": "stderr",
     "output_type": "stream",
     "text": [
      "── \u001b[1mAttaching core tidyverse packages\u001b[22m ───────────────────────── tidyverse 2.0.0 ──\n",
      "\u001b[32m✔\u001b[39m \u001b[34mdplyr    \u001b[39m 1.1.2     \u001b[32m✔\u001b[39m \u001b[34mreadr    \u001b[39m 2.1.4\n",
      "\u001b[32m✔\u001b[39m \u001b[34mforcats  \u001b[39m 1.0.0     \u001b[32m✔\u001b[39m \u001b[34mstringr  \u001b[39m 1.5.0\n",
      "\u001b[32m✔\u001b[39m \u001b[34mggplot2  \u001b[39m 3.4.2     \u001b[32m✔\u001b[39m \u001b[34mtibble   \u001b[39m 3.2.1\n",
      "\u001b[32m✔\u001b[39m \u001b[34mlubridate\u001b[39m 1.9.2     \u001b[32m✔\u001b[39m \u001b[34mtidyr    \u001b[39m 1.3.0\n",
      "\u001b[32m✔\u001b[39m \u001b[34mpurrr    \u001b[39m 1.0.1     \n",
      "── \u001b[1mConflicts\u001b[22m ─────────────────────────────────────────── tidyverse_conflicts() ──\n",
      "\u001b[31m✖\u001b[39m \u001b[34mdplyr\u001b[39m::\u001b[32mfilter()\u001b[39m masks \u001b[34mstats\u001b[39m::filter()\n",
      "\u001b[31m✖\u001b[39m \u001b[34mdplyr\u001b[39m::\u001b[32mlag()\u001b[39m    masks \u001b[34mstats\u001b[39m::lag()\n",
      "\u001b[36mℹ\u001b[39m Use the conflicted package (\u001b[3m\u001b[34m<http://conflicted.r-lib.org/>\u001b[39m\u001b[23m) to force all conflicts to become errors\n",
      "rigr version 1.0.4: Regression, Inference, and General Data Analysis Tools in R\n",
      "\n"
     ]
    }
   ],
   "source": [
    "library(tidyverse)\n",
    "library(match2C)\n",
    "library(ggplot2)\n",
    "library(rigr)\n",
    "library(tableone)\n",
    "library(xtable)\n"
   ]
  },
  {
   "cell_type": "code",
   "execution_count": 160,
   "id": "modified-keyboard",
   "metadata": {},
   "outputs": [],
   "source": [
    "source('./src/functions_customized_dist_left.R')"
   ]
  },
  {
   "cell_type": "code",
   "execution_count": 23,
   "id": "surface-banana",
   "metadata": {},
   "outputs": [
    {
     "name": "stderr",
     "output_type": "stream",
     "text": [
      "\u001b[1mRows: \u001b[22m\u001b[34m8979\u001b[39m \u001b[1mColumns: \u001b[22m\u001b[34m53\u001b[39m\n",
      "\u001b[36m──\u001b[39m \u001b[1mColumn specification\u001b[22m \u001b[36m─────────────────────────────────────────────────────────\u001b[39m\n",
      "\u001b[1mDelimiter:\u001b[22m \",\"\n",
      "\u001b[31mchr\u001b[39m  (5): submission_id, full_decision, primary_keyword, secondary_keyword, ...\n",
      "\u001b[32mdbl\u001b[39m (40): year, binary_decision, input_len, n_review, rating_avg, rating_max...\n",
      "\u001b[33mlgl\u001b[39m  (8): arxiv_first, any_reported_f, fst_reported_f, any_perceived_f, fst_...\n",
      "\n",
      "\u001b[36mℹ\u001b[39m Use `spec()` to retrieve the full column specification for this data.\n",
      "\u001b[36mℹ\u001b[39m Specify the column types or set `show_col_types = FALSE` to quiet this message.\n"
     ]
    }
   ],
   "source": [
    "design_mat <- read_csv('./design_mat.csv')\n"
   ]
  },
  {
   "cell_type": "code",
   "execution_count": 64,
   "id": "sealed-example",
   "metadata": {},
   "outputs": [],
   "source": [
    "design_mat <- design_mat_raw %>% mutate(\n",
    "  'sub_fluency' = apply(as.array(design_mat_raw$sub_fluency),1,as.numeric,1),\n",
    "  'n_fig' = apply(as.array(design_mat_raw$n_fig),1,as.numeric,1),\n",
    "  'n_ref' = apply(as.array(design_mat_raw$n_ref),1,as.numeric,1),\n",
    "  'n_sec' = apply(as.array(design_mat_raw$n_sec),1,as.numeric,1),\n",
    "  'n_author' = apply(as.array(design_mat_raw$n_author),1,as.numeric,1),\n",
    "  'any_reported_f' = apply(as.array(design_mat_raw$any_reported_f),1,as.logical),\n",
    "  'fst_reported_f' = apply(as.array(design_mat_raw$fst_reported_f),1,as.logical),\n",
    "  'cnt_reported_f' = apply(as.array(design_mat_raw$cnt_reported_f),1,as.numeric,1),\n",
    "  'year' = apply(as.array(design_mat_raw$year),1,as.character,1),\n",
    "  'cluster' = apply(as.array(design_mat_raw$cluster),1,as.character,1),\n",
    "  'demo_no_us' = apply(as.array(design_mat_raw$demo_no_us),1,as.logical),\n",
    "  'arxiv_first' = apply(as.array(design_mat_raw$arxiv_first),1,as.logical),\n",
    ")"
   ]
  },
  {
   "cell_type": "code",
   "execution_count": 171,
   "id": "contained-vienna",
   "metadata": {},
   "outputs": [],
   "source": [
    "var_list <- c('log_input_len', 'year',  'n_fig', 'n_ref', 'n_sec',\n",
    "              'sub_fluency', 'cluster', 'n_author',\n",
    "              'fst_reported_f', 'any_reported_f', 'cnt_reported_f', 'demo_no_us',\n",
    "              'log_ins_rank_min', 'log_ins_rank_avg', 'log_ins_rank_max',\n",
    "              'log_author_cite_min', 'log_author_cite_avg', 'log_author_cite_max'\n",
    ")\n",
    "fb_var <- c('cluster')\n"
   ]
  },
  {
   "cell_type": "code",
   "execution_count": 58,
   "id": "blank-teens",
   "metadata": {},
   "outputs": [],
   "source": [
    "A <- 'arxiv_first'"
   ]
  },
  {
   "cell_type": "code",
   "execution_count": 101,
   "id": "offensive-somalia",
   "metadata": {},
   "outputs": [],
   "source": [
    "Z = as.matrix(design_mat[,(A)])"
   ]
  },
  {
   "cell_type": "code",
   "execution_count": 103,
   "id": "binding-prerequisite",
   "metadata": {},
   "outputs": [],
   "source": [
    "n_tr = sum(Z)\n",
    "n_ct = length(Z) - n_tr"
   ]
  },
  {
   "cell_type": "code",
   "execution_count": 151,
   "id": "functioning-lighter",
   "metadata": {},
   "outputs": [],
   "source": [
    "propensity <- glm(\n",
    "    as.formula(paste(\"arxiv_first ~ \", paste(var_list, collapse =\"+\"), sep = \"\")),\n",
    "    data=design_mat, family='binomial'\n",
    ")$fitted.values\n"
   ]
  },
  {
   "cell_type": "code",
   "execution_count": 138,
   "id": "alike-depression",
   "metadata": {},
   "outputs": [],
   "source": [
    "X <- as.matrix(design_mat[,var_list])"
   ]
  },
  {
   "cell_type": "code",
   "execution_count": 166,
   "id": "enabling-farmer",
   "metadata": {},
   "outputs": [],
   "source": [
    "dist_list_left <- create_list_from_scratch_overall(Z, X, \n",
    "    exact = c('year', 'n_author'), \n",
    "    p = propensity, penalty = 100, caliper_low = 1)\n",
    "\n"
   ]
  },
  {
   "cell_type": "code",
   "execution_count": 168,
   "id": "affiliated-retro",
   "metadata": {},
   "outputs": [],
   "source": [
    "dist_list_left$d <- 1e2*dist_list_left$d"
   ]
  },
  {
   "cell_type": "code",
   "execution_count": 180,
   "id": "ordinary-catering",
   "metadata": {},
   "outputs": [],
   "source": [
    "X <- as.matrix(design_mat[,var_list])"
   ]
  },
  {
   "cell_type": "code",
   "execution_count": 181,
   "id": "stylish-brighton",
   "metadata": {},
   "outputs": [],
   "source": [
    "dist_list_right = create_list_from_scratch(Z = Z, X = propensity,\n",
    "                                           p = propensity,\n",
    "                                           caliper_low = 1,\n",
    "                                           k = NULL,\n",
    "                                           method = 'L1')"
   ]
  },
  {
   "cell_type": "code",
   "execution_count": null,
   "id": "collected-poker",
   "metadata": {},
   "outputs": [],
   "source": [
    "matching_output = match_2C_list(Z = Z, dataset = design_mat,\n",
    "                                dist_list_1 = dist_list_left,\n",
    "                                dist_list_2 = dist_list_right,\n",
    "                                lambda = 100,\n",
    "                                controls = 1)"
   ]
  },
  {
   "cell_type": "code",
   "execution_count": null,
   "id": "governmental-jefferson",
   "metadata": {},
   "outputs": [],
   "source": [
    "write.csv(matching_output$matched_data_in_order, 'matched_design_mat_ordered.csv')"
   ]
  },
  {
   "cell_type": "code",
   "execution_count": null,
   "id": "architectural-height",
   "metadata": {},
   "outputs": [],
   "source": [
    "### with fine-balance"
   ]
  },
  {
   "cell_type": "code",
   "execution_count": 191,
   "id": "furnished-sword",
   "metadata": {},
   "outputs": [],
   "source": [
    "dist_list_right_fb = create_list_from_scratch(Z = Z, X = as.numeric(X[, fb_var]),\n",
    "                                              p = propensity,\n",
    "                                              caliper_low = 1,\n",
    "                                              k = NULL,\n",
    "                                              method = '0/1')\n",
    "dist_list_right$d = 1e2*dist_list_right$d + 1e4*dist_list_right_fb$d\n",
    "\n",
    "\n",
    "\n"
   ]
  },
  {
   "cell_type": "code",
   "execution_count": 192,
   "id": "retired-philippines",
   "metadata": {},
   "outputs": [],
   "source": [
    "fb_matching_output = match_2C_list(Z = Z, dataset = design_mat,\n",
    "                                dist_list_1 = dist_list_left,\n",
    "                                dist_list_2 = dist_list_right,\n",
    "                                lambda = 100,\n",
    "                                controls = 1)"
   ]
  },
  {
   "cell_type": "code",
   "execution_count": 193,
   "id": "second-brother",
   "metadata": {},
   "outputs": [],
   "source": [
    "write.csv(matching_output$matched_data_in_order, 'fb_matched_design_mat_ordered.csv')"
   ]
  }
 ],
 "metadata": {
  "kernelspec": {
   "display_name": "R 3.6",
   "language": "R",
   "name": "ir36"
  },
  "language_info": {
   "codemirror_mode": "r",
   "file_extension": ".r",
   "mimetype": "text/x-r-source",
   "name": "R",
   "pygments_lexer": "r",
   "version": "3.6.1"
  }
 },
 "nbformat": 4,
 "nbformat_minor": 5
}
